{
 "cells": [
  {
   "cell_type": "code",
   "execution_count": 1,
   "id": "d51def5a",
   "metadata": {},
   "outputs": [
    {
     "name": "stderr",
     "output_type": "stream",
     "text": [
      "D:\\Anaconda\\Conda\\lib\\site-packages\\scipy\\__init__.py:146: UserWarning: A NumPy version >=1.16.5 and <1.23.0 is required for this version of SciPy (detected version 1.23.0\n",
      "  warnings.warn(f\"A NumPy version >={np_minversion} and <{np_maxversion}\"\n"
     ]
    }
   ],
   "source": [
    "import pickle\n",
    "import os\n",
    "import numpy as np\n",
    "import pandas as pd\n",
    "\n",
    "import tensorflow as tf\n",
    "from tensorflow.keras.models import load_model\n",
    "from tensorflow.keras.utils import to_categorical \n",
    "\n",
    "from sklearn.preprocessing import normalize\n",
    "from sklearn.model_selection import train_test_split\n",
    "from sklearn.metrics.pairwise import cosine_similarity"
   ]
  },
  {
   "cell_type": "code",
   "execution_count": 2,
   "id": "add80425",
   "metadata": {},
   "outputs": [],
   "source": [
    "os.chdir('D:\\EEG to emotion\\EEG_DE_features')"
   ]
  },
  {
   "cell_type": "code",
   "execution_count": 3,
   "id": "87375c57",
   "metadata": {},
   "outputs": [],
   "source": [
    "train=pd.read_csv(\"seed_2.csv\")\n",
    "Y=pd.DataFrame({'label':train['label']},index=None)"
   ]
  },
  {
   "cell_type": "code",
   "execution_count": 4,
   "id": "5dbfc5ec",
   "metadata": {},
   "outputs": [],
   "source": [
    "train.drop(['Unnamed: 0','label'],axis=1,inplace=True)"
   ]
  },
  {
   "cell_type": "code",
   "execution_count": 5,
   "id": "056d806a",
   "metadata": {},
   "outputs": [],
   "source": [
    "train['combine'] = train.values.tolist()"
   ]
  },
  {
   "cell_type": "code",
   "execution_count": 6,
   "id": "99e4e6da",
   "metadata": {},
   "outputs": [
    {
     "name": "stderr",
     "output_type": "stream",
     "text": [
      "C:\\Users\\admin\\AppData\\Local\\Temp/ipykernel_6324/1822833573.py:2: SettingWithCopyWarning: \n",
      "A value is trying to be set on a copy of a slice from a DataFrame\n",
      "\n",
      "See the caveats in the documentation: https://pandas.pydata.org/pandas-docs/stable/user_guide/indexing.html#returning-a-view-versus-a-copy\n",
      "  train['combine'][i]=np.asarray(train['combine'][i]) ##merge the data to form an array\n"
     ]
    }
   ],
   "source": [
    "for i in range(train['combine'].shape[0]):\n",
    "    train['combine'][i]=np.asarray(train['combine'][i]) ##merge the data to form an array"
   ]
  },
  {
   "cell_type": "code",
   "execution_count": 7,
   "id": "bd5d1367",
   "metadata": {},
   "outputs": [],
   "source": [
    "data = []\n",
    "label = []\n",
    "for i in range(0,train.shape[0]):\n",
    "    data.append(train['combine'][i])\n",
    "    label.append(Y['label'][i])"
   ]
  },
  {
   "cell_type": "code",
   "execution_count": 8,
   "id": "88dfb734",
   "metadata": {},
   "outputs": [],
   "source": [
    "new_train=np.asarray(data)\n",
    "new_train=new_train.reshape(new_train.shape[0],new_train.shape[1],1)"
   ]
  },
  {
   "cell_type": "code",
   "execution_count": 9,
   "id": "85f5c713",
   "metadata": {},
   "outputs": [],
   "source": [
    "label_new=np.asarray(label)"
   ]
  },
  {
   "cell_type": "code",
   "execution_count": 10,
   "id": "b7836ce5",
   "metadata": {},
   "outputs": [],
   "source": [
    "label_new = to_categorical(label_new)"
   ]
  },
  {
   "cell_type": "code",
   "execution_count": 11,
   "id": "eeca079d",
   "metadata": {},
   "outputs": [],
   "source": [
    "x_train, x_test, y_train, y_test = train_test_split(new_train, label_new, test_size=0.1, random_state=42)"
   ]
  },
  {
   "cell_type": "code",
   "execution_count": 12,
   "id": "b3dcbf02",
   "metadata": {},
   "outputs": [
    {
     "name": "stdout",
     "output_type": "stream",
     "text": [
      "Model: \"sequential\"\n",
      "_________________________________________________________________\n",
      " Layer (type)                Output Shape              Param #   \n",
      "=================================================================\n",
      " conv1d (Conv1D)             (None, 310, 128)          512       \n",
      "                                                                 \n",
      " batch_normalization (BatchN  (None, 310, 128)         512       \n",
      " ormalization)                                                   \n",
      "                                                                 \n",
      " max_pooling1d (MaxPooling1D  (None, 155, 128)         0         \n",
      " )                                                               \n",
      "                                                                 \n",
      " conv1d_1 (Conv1D)           (None, 155, 128)          49280     \n",
      "                                                                 \n",
      " batch_normalization_1 (Batc  (None, 155, 128)         512       \n",
      " hNormalization)                                                 \n",
      "                                                                 \n",
      " max_pooling1d_1 (MaxPooling  (None, 77, 128)          0         \n",
      " 1D)                                                             \n",
      "                                                                 \n",
      " flatten (Flatten)           (None, 9856)              0         \n",
      "                                                                 \n",
      " dense (Dense)               (None, 64)                630848    \n",
      "                                                                 \n",
      " dropout (Dropout)           (None, 64)                0         \n",
      "                                                                 \n",
      " dense_1 (Dense)             (None, 32)                2080      \n",
      "                                                                 \n",
      " dropout_1 (Dropout)         (None, 32)                0         \n",
      "                                                                 \n",
      " dense_2 (Dense)             (None, 16)                528       \n",
      "                                                                 \n",
      " dropout_2 (Dropout)         (None, 16)                0         \n",
      "                                                                 \n",
      " dense_3 (Dense)             (None, 5)                 85        \n",
      "                                                                 \n",
      "=================================================================\n",
      "Total params: 684,357\n",
      "Trainable params: 683,845\n",
      "Non-trainable params: 512\n",
      "_________________________________________________________________\n"
     ]
    }
   ],
   "source": [
    "model=load_model('1Dcnn.h5')\n",
    "model.summary()"
   ]
  },
  {
   "cell_type": "code",
   "execution_count": 14,
   "id": "21c4f76d",
   "metadata": {},
   "outputs": [],
   "source": [
    "df=pd.read_csv('Books_100k.csv')"
   ]
  },
  {
   "cell_type": "code",
   "execution_count": 15,
   "id": "7cd89509",
   "metadata": {},
   "outputs": [],
   "source": [
    "y_pred=model.predict(x_test)"
   ]
  },
  {
   "cell_type": "code",
   "execution_count": 16,
   "id": "6b03e134",
   "metadata": {},
   "outputs": [],
   "source": [
    "y=np.zeros((y_pred.shape[0],5))\n",
    "for i in range(y_pred.shape[0]):\n",
    "    y[i]=tf.math.sigmoid(y_pred[i])"
   ]
  },
  {
   "cell_type": "code",
   "execution_count": 17,
   "id": "6198eedc",
   "metadata": {},
   "outputs": [],
   "source": [
    "emotion2genre_matrix=np.array(\n",
    "[[10,13,29,6,17,21,28,6,10,28,9,15,8,11,10,17,8,16,14,23,23],                                  #disgust\n",
    " [6,12,54,4,6,28,30,8,8,52,11,16,9,14,11,15,11,38,13,14,14],                                   #fear\n",
    " [8,10,35,4,11,21,23,7,8,38,10,13,8,23,20,23,9,29,12,15,21],                                   #sad\n",
    " [34,25,35,9,40,40,50,24,27,33,13,37,18,19,13,22,10,40,40,51,56],                              #neutral\n",
    " [24,16,33,5,30,38,56,19,17,34,13,44,11,12,13,17,6,45,41,52,57]]                               #happy \n",
    " )"
   ]
  },
  {
   "cell_type": "code",
   "execution_count": 18,
   "id": "23664228",
   "metadata": {},
   "outputs": [],
   "source": [
    "emotion2genre_matrix = normalize(emotion2genre_matrix, axis=1, norm='l2')"
   ]
  },
  {
   "cell_type": "code",
   "execution_count": 19,
   "id": "91e1965c",
   "metadata": {},
   "outputs": [],
   "source": [
    "y_pred=np.matmul(y,emotion2genre_matrix)"
   ]
  },
  {
   "cell_type": "code",
   "execution_count": 20,
   "id": "a8030fe5",
   "metadata": {},
   "outputs": [],
   "source": [
    "y_pred=normalize(y_pred, axis=1, norm='l2')"
   ]
  },
  {
   "cell_type": "code",
   "execution_count": 21,
   "id": "ab009562",
   "metadata": {},
   "outputs": [],
   "source": [
    "y_1=y_pred[0]"
   ]
  },
  {
   "cell_type": "code",
   "execution_count": 22,
   "id": "d919ffc2",
   "metadata": {},
   "outputs": [],
   "source": [
    "ones = np.ones((1055, 21))"
   ]
  },
  {
   "cell_type": "code",
   "execution_count": 23,
   "id": "eb6dd18d",
   "metadata": {},
   "outputs": [],
   "source": [
    "y_1=y_1*ones"
   ]
  },
  {
   "cell_type": "code",
   "execution_count": 24,
   "id": "65ecac77",
   "metadata": {},
   "outputs": [],
   "source": [
    "genres=[\"Business\", \"Classics\", \"Comics\", \"Contemporary\", \"Crime\", \"Fantasy\", \"Fiction\",\n",
    "        \"History\", \"Horror\", \"Humor\", \"Manga\", \"Mystery\", \"Nonfiction\",\"Philosophy\", \"Poetry\",\n",
    "        \"Psychology\", \"Religion\", \"Romance\", \"Science\", \"Suspense\",\"Thriller\"]"
   ]
  },
  {
   "cell_type": "code",
   "execution_count": 25,
   "id": "22bda4f9",
   "metadata": {},
   "outputs": [],
   "source": [
    "vectors = df[genres].values"
   ]
  },
  {
   "cell_type": "code",
   "execution_count": 26,
   "id": "19d98106",
   "metadata": {},
   "outputs": [],
   "source": [
    "normalized_vectors = normalize(vectors, axis=1, norm='l2')"
   ]
  },
  {
   "cell_type": "code",
   "execution_count": 27,
   "id": "b61db6ed",
   "metadata": {},
   "outputs": [],
   "source": [
    "similarity = cosine_similarity(y_1, normalized_vectors)"
   ]
  },
  {
   "cell_type": "code",
   "execution_count": 28,
   "id": "c974bd6b",
   "metadata": {},
   "outputs": [],
   "source": [
    "df['similarity'] = similarity[0]"
   ]
  },
  {
   "cell_type": "code",
   "execution_count": 29,
   "id": "f4241856",
   "metadata": {},
   "outputs": [],
   "source": [
    "books= df.sort_values(by=['similarity', 'rating'], ascending=False) \\\n",
    "            .head(20)['title'] \\\n",
    "            .sample(frac=0.5)"
   ]
  },
  {
   "cell_type": "code",
   "execution_count": 30,
   "id": "9e3fafc3",
   "metadata": {},
   "outputs": [],
   "source": [
    "book_1=books.iloc[0]\n",
    "book_2=books.iloc[1]\n",
    "book_3=books.iloc[2]\n",
    "book_4=books.iloc[3]\n",
    "book_5=books.iloc[4]"
   ]
  },
  {
   "cell_type": "code",
   "execution_count": 31,
   "id": "228b7b31",
   "metadata": {},
   "outputs": [
    {
     "name": "stdout",
     "output_type": "stream",
     "text": [
      "Swamp Thing, Vol. 3: The Curse\n",
      "The New Teen Titans Archives, Vol. 1\n",
      "Green Arrow, Vol. 2: Sounds of Violence\n",
      "Kebakaran Hutan\n",
      "The Complete Peanuts, Vol. 15: 1979-1980\n"
     ]
    }
   ],
   "source": [
    "print(book_1)\n",
    "print(book_2)\n",
    "print(book_3)\n",
    "print(book_4)\n",
    "print(book_5)"
   ]
  },
  {
   "cell_type": "code",
   "execution_count": null,
   "id": "2d62881a",
   "metadata": {},
   "outputs": [],
   "source": []
  }
 ],
 "metadata": {
  "kernelspec": {
   "display_name": "Python 3 (ipykernel)",
   "language": "python",
   "name": "python3"
  },
  "language_info": {
   "codemirror_mode": {
    "name": "ipython",
    "version": 3
   },
   "file_extension": ".py",
   "mimetype": "text/x-python",
   "name": "python",
   "nbconvert_exporter": "python",
   "pygments_lexer": "ipython3",
   "version": "3.9.7"
  }
 },
 "nbformat": 4,
 "nbformat_minor": 5
}
